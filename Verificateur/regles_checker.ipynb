{
 "cells": [
  {
   "cell_type": "code",
   "execution_count": null,
   "metadata": {},
   "outputs": [],
   "source": [
    "import re\n",
    "\n",
    "\n",
    "pattern_classe = \"class (\\w+):\"\n",
    "pattern_fonction = \"def (\\w+)\"\n",
    "pattern_variable = \"(\\w+) ?=\"\n"
   ]
  },
  {
   "attachments": {},
   "cell_type": "markdown",
   "metadata": {},
   "source": [
    "Découper en 2 fonctions : \n",
    "1. Une qui récupère les infos\n",
    "2. Une qui vérifie que la règle est appliqué et qui renvoie le code erreur si elle n'est pas appliquée"
   ]
  },
  {
   "attachments": {},
   "cell_type": "markdown",
   "metadata": {},
   "source": [
    "## Organisation du code source"
   ]
  },
  {
   "attachments": {},
   "cell_type": "markdown",
   "metadata": {},
   "source": [
    "### O-1 : PEP 8\n",
    "Prendre pattern variable et fonction et faire \n",
    "text = text.lower()"
   ]
  },
  {
   "cell_type": "code",
   "execution_count": null,
   "metadata": {},
   "outputs": [],
   "source": [
    "def check_minuscule(texte):\n",
    "    return not texte.lower() == texte\n",
    "\n",
    "def check_pep8(texte_cell):\n",
    "    pattern_fonction = \"def (\\w+)\"\n",
    "    pattern_variable = \"(\\w+) ?=\"\n",
    "    for variable in re.findall(pattern_variable,texte_cell):\n",
    "        if check_minuscule(variable):\n",
    "            return \"O-1\"\n",
    "    for name_function in re.findall(pattern_fonction,texte_cell):\n",
    "        if check_minuscule(name_function):\n",
    "            return \"O-1\"\n",
    "    return \"\""
   ]
  },
  {
   "attachments": {},
   "cell_type": "markdown",
   "metadata": {},
   "source": [
    "### O-2 : Nommages des fichiers, dossier\n",
    "Faire un os.listdir() puis lower sur chaque item, faire une liste de mots clés. \n",
    "Vérifier si il y a une occurence d'un mot clé\n"
   ]
  },
  {
   "attachments": {},
   "cell_type": "markdown",
   "metadata": {},
   "source": [
    "### O-3  : Abréviations\n",
    "\n",
    "Faire un dictionnaire d'abréviations (lst etc...)\n",
    "Avec les regex fonction et variables vérifier la longueur des items et si ils sont dans les dico"
   ]
  },
  {
   "attachments": {},
   "cell_type": "markdown",
   "metadata": {},
   "source": [
    "## Echelle Globale du Programme"
   ]
  },
  {
   "attachments": {},
   "cell_type": "markdown",
   "metadata": {},
   "source": [
    "### G-1 : Séparation des fonctions"
   ]
  },
  {
   "attachments": {},
   "cell_type": "markdown",
   "metadata": {},
   "source": [
    "faire un regex et compter les \\n à l'interieur. Il doit y avoir exactement 1."
   ]
  },
  {
   "cell_type": "code",
   "execution_count": null,
   "metadata": {},
   "outputs": [],
   "source": [
    "pattern_espace_avant_fonction = \"[:|=](.+)def|[:|=](.+)class\""
   ]
  },
  {
   "attachments": {},
   "cell_type": "markdown",
   "metadata": {},
   "source": [
    "### G-2 : Variables Globales"
   ]
  },
  {
   "attachments": {},
   "cell_type": "markdown",
   "metadata": {},
   "source": [
    "1. Regarder les arguments pattern = \"def \\w+\\((.*)\\)\" et faire un split \",\"\n",
    "2. Sur les éléments du split appliquer O-1,O-2 et O-3\n",
    "3. Récupérer toutes les variables de la fonctions\n"
   ]
  },
  {
   "attachments": {},
   "cell_type": "markdown",
   "metadata": {},
   "source": [
    "### G-3 : Espace de fin de lignes\n",
    "Vérifier que les text[-1] == \" \""
   ]
  },
  {
   "attachments": {},
   "cell_type": "markdown",
   "metadata": {},
   "source": [
    "### G-4 : Indentation initiale\n",
    "\n",
    "La text[0] = \" \" ==> Erreur"
   ]
  },
  {
   "attachments": {},
   "cell_type": "markdown",
   "metadata": {},
   "source": [
    "## Les Fonctions"
   ]
  },
  {
   "attachments": {},
   "cell_type": "markdown",
   "metadata": {},
   "source": [
    "### F-1 : Cohérence des fonctions"
   ]
  },
  {
   "attachments": {},
   "cell_type": "markdown",
   "metadata": {},
   "source": [
    "**A la recherche d'une idée**"
   ]
  },
  {
   "attachments": {},
   "cell_type": "markdown",
   "metadata": {},
   "source": [
    "### F-2 : Nommage des fonctions\n",
    "pattern_fonction et vérifier qu'il y ait un _ dans le nom de la fonction avant de savoir si il y a un verbe"
   ]
  },
  {
   "cell_type": "code",
   "execution_count": null,
   "metadata": {},
   "outputs": [],
   "source": [
    "def check_function_name(text_cell):\n",
    "    pass"
   ]
  },
  {
   "attachments": {},
   "cell_type": "markdown",
   "metadata": {},
   "source": [
    "### F-3 : Largeur du code\n"
   ]
  },
  {
   "cell_type": "code",
   "execution_count": null,
   "metadata": {},
   "outputs": [],
   "source": [
    "def largeur(texte_ligne):\n",
    "    texte_ligne = texte_ligne.strip()\n",
    "    if len(texte_ligne) > 80:\n",
    "        return \"F-3\"\n",
    "    else:\n",
    "        return \"\""
   ]
  },
  {
   "attachments": {},
   "cell_type": "markdown",
   "metadata": {},
   "source": [
    "### F-4 : Longueur de fonctions et de scripts"
   ]
  },
  {
   "cell_type": "code",
   "execution_count": null,
   "metadata": {},
   "outputs": [],
   "source": [
    "def count_ligne_function(text_cell):\n",
    "    pattern_function_inside = \"def \\w+\\(.*\\): ?\\\\n    (.*)\\\\n\\\\n\"\n",
    "    liste_function_inside = re.find_all(pattern_inside_function,text)\n",
    "    for function_inside in liste_function_inside : \n",
    "        if function_inside.count(\"\\n\") >= 20:\n",
    "            return \"F-4\"\n",
    "    return \"\"\n",
    "\n",
    "def count_ligne_cell(text_cell):\n",
    "    pattern_function_full = \"(def .+)\\\\n\\\\n\"\n",
    "    for function_text in re.findall(pattern_function_full,text_cell):\n",
    "        text_cell = text_cell.replace(function_text,\"\")\n",
    "    if text_cell.count(\"\\n\") >= 20:\n",
    "        return \"F-4\"\n",
    "    else:\n",
    "        return \"\"\n",
    "    "
   ]
  },
  {
   "attachments": {},
   "cell_type": "markdown",
   "metadata": {},
   "source": [
    "### F-5 : Nombres de paramètres"
   ]
  },
  {
   "cell_type": "code",
   "execution_count": null,
   "metadata": {},
   "outputs": [],
   "source": [
    "def count_parametre(text_cell):\n",
    "    pattern_parameter = \"def \\w+\\((.*)\\)\"\n",
    "    for parameters_functions in re.findall(pattern_parameter,text_cell):\n",
    "        if len(\",\".split(parameters_functions))>4:\n",
    "            return \"F-5\"\n",
    "    return \"\""
   ]
  },
  {
   "attachments": {},
   "cell_type": "markdown",
   "metadata": {},
   "source": [
    "### F-6 : Docstring"
   ]
  },
  {
   "attachments": {},
   "cell_type": "markdown",
   "metadata": {},
   "source": [
    "Rip"
   ]
  },
  {
   "attachments": {},
   "cell_type": "markdown",
   "metadata": {},
   "source": [
    "### F-7 : Fonction emboitées"
   ]
  },
  {
   "cell_type": "code",
   "execution_count": null,
   "metadata": {},
   "outputs": [],
   "source": [
    "pattern_function_inside = \"def \\w+\\(.*\\): ?\\\\n    (.*)\\\\n\\\\n\"\n",
    "def nested_function(text_cell):\n",
    "    for function_inside in re.findall(pattern_function_inside,text_cell):\n",
    "        if \"def \" in function_inside:\n",
    "            return 'F-7'\n",
    "    return \"\""
   ]
  },
  {
   "attachments": {},
   "cell_type": "markdown",
   "metadata": {},
   "source": [
    "## Intérieur d'une fonction"
   ]
  },
  {
   "attachments": {},
   "cell_type": "markdown",
   "metadata": {},
   "source": [
    "### I-1 : Contenu d'une ligne"
   ]
  },
  {
   "attachments": {},
   "cell_type": "markdown",
   "metadata": {},
   "source": [
    "Niet"
   ]
  },
  {
   "attachments": {},
   "cell_type": "markdown",
   "metadata": {},
   "source": [
    "### I-2 : Espaces"
   ]
  },
  {
   "cell_type": "code",
   "execution_count": null,
   "metadata": {},
   "outputs": [],
   "source": [
    "pattern_espace = \"( +)\"\n",
    "def check_espaces(text_cell):\n",
    "    for space in re.findall(pattern_espace,texte_cell):\n",
    "        n_spaces = len(space)\n",
    "        if n_spaces != 1 and n_spaces %4 != 0:\n",
    "            return \"I-2\"\n",
    "    return \"\""
   ]
  },
  {
   "attachments": {},
   "cell_type": "markdown",
   "metadata": {},
   "source": [
    "## Structure de Contrôle"
   ]
  },
  {
   "attachments": {},
   "cell_type": "markdown",
   "metadata": {},
   "source": [
    "### C-1 : Branchement successifs"
   ]
  },
  {
   "cell_type": "code",
   "execution_count": null,
   "metadata": {},
   "outputs": [],
   "source": [
    "pattern_espace = \"( +)\"\n",
    "def check_branchement_successifs(text_cell):\n",
    "    for space in re.findall(pattern_espace,texte_cell):\n",
    "        n_spaces = len(space)\n",
    "        if n_spaces > 12:\n",
    "            return \"C-1\"\n",
    "    return \"\"\n"
   ]
  }
 ],
 "metadata": {
  "kernelspec": {
   "display_name": "Python 3",
   "language": "python",
   "name": "python3"
  },
  "language_info": {
   "codemirror_mode": {
    "name": "ipython",
    "version": 3
   },
   "file_extension": ".py",
   "mimetype": "text/x-python",
   "name": "python",
   "nbconvert_exporter": "python",
   "pygments_lexer": "ipython3",
   "version": "3.9.10"
  },
  "orig_nbformat": 4
 },
 "nbformat": 4,
 "nbformat_minor": 2
}
