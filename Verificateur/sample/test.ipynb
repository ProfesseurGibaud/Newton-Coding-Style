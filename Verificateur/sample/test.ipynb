{
 "cells": [
  {
   "cell_type": "code",
   "execution_count": 1,
   "metadata": {},
   "outputs": [],
   "source": [
    "import pandas as pd"
   ]
  },
  {
   "cell_type": "code",
   "execution_count": 2,
   "metadata": {},
   "outputs": [],
   "source": [
    "identifiants = [\n",
    "    \"O-1\",\"O-2\",\"O-3\",\n",
    "    \"G-1\",\"G-2\",\"G-3\",\"G-4\",\n",
    "    \"F-1\",\"F-2\",\"F-3\",\"F-4\",\"F-5\",\"F-6\",\"F-7\",\n",
    "    \"I-1\",\"I-2\",\"C-1\"]"
   ]
  },
  {
   "cell_type": "code",
   "execution_count": null,
   "metadata": {},
   "outputs": [],
   "source": [
    "intitules = [\n",
    "    \"PEP8\",\n",
    "    \"Nommage des fichiers, dossiers et fonctions\",\n",
    "    \"Abréviations\",\n",
    "    \"Séparations des fonctions\",\n",
    "    \"Variables globales\",\n",
    "    \"Espaces de fin de ligne\",\n",
    "    \"Indentation initiale\",\n",
    "    \"Cohérence des fonctions\",\n",
    "    \"Nommage des fonctions\",\n",
    "    \"Largeur du code\",\n",
    "    \"Longueur de fonctions et de scripts\",\n",
    "    \"Nombre de paramètres\",\n",
    "    \"Docstring\",\n",
    "    \"Fonctions emboitées\",\n",
    "    \"Contenu d'une ligne\",\n",
    "    \"Espaces\",\n",
    "    \"Branchement successifs\"\n",
    " ]"
   ]
  },
  {
   "cell_type": "code",
   "execution_count": null,
   "metadata": {},
   "outputs": [],
   "source": [
    "# Les niveaux sont : 0:info,1:mineure,2:majeure\n",
    "niveaux = [1,1,1,1,2,1,2,2,2,2,2,2,1,2,2,1,2]\n",
    "df = pd.DataFrame(\n",
    "    {\"Identifiant\":identifiants,\n",
    "    \"Intitulé\":intitulés,\n",
    "    \"Niveau de Règle\":niveaux})\n",
    "df.to_csv(\"data/rules.csv\",sep =\";\",index=False)"
   ]
  },
  {
   "cell_type": "code",
   "execution_count": 10,
   "metadata": {},
   "outputs": [],
   "source": [
    "from functions.read_jupyter import *"
   ]
  },
  {
   "cell_type": "code",
   "execution_count": 12,
   "metadata": {},
   "outputs": [],
   "source": [
    "dico = read_ipynb(\"tt\")"
   ]
  },
  {
   "cell_type": "code",
   "execution_count": 26,
   "metadata": {},
   "outputs": [
    {
     "data": {
      "text/plain": [
       "'class Pile:\\n     def __init__(self):\\n         self.data = []\\n     def depiler(self):\\n         return self.data.pop()'"
      ]
     },
     "execution_count": 26,
     "metadata": {},
     "output_type": "execute_result"
    }
   ],
   "source": [
    "liste_cellule_code = []\n",
    "for cell in dico[\"cells\"]:\n",
    "    if cell[\"cell_type\"] == \"code\":\n",
    "        liste_cellule_code.append(\" \".join(cell[\"source\"]))\n",
    "liste_cellule_code[4]"
   ]
  },
  {
   "cell_type": "code",
   "execution_count": 22,
   "metadata": {},
   "outputs": [],
   "source": [
    "import re"
   ]
  }
 ],
 "metadata": {
  "kernelspec": {
   "display_name": "Python 3",
   "language": "python",
   "name": "python3"
  },
  "language_info": {
   "codemirror_mode": {
    "name": "ipython",
    "version": 3
   },
   "file_extension": ".py",
   "mimetype": "text/x-python",
   "name": "python",
   "nbconvert_exporter": "python",
   "pygments_lexer": "ipython3",
   "version": "3.10.6"
  },
  "orig_nbformat": 4
 },
 "nbformat": 4,
 "nbformat_minor": 2
}
